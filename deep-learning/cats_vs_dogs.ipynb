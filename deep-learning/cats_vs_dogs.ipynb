{
 "cells": [
  {
   "cell_type": "code",
   "execution_count": 7,
   "id": "1a9c6017",
   "metadata": {},
   "outputs": [],
   "source": [
    "initial_data = [\n",
    "  [1, 2 ],\n",
    "  [2, 4 ],\n",
    "  [3, 6 ],\n",
    "  [4, 8 ],\n",
    "  [5, 10 ],\n",
    "  [6, 12 ],\n",
    "  [7, 14 ],\n",
    "]\n",
    "learning_rate = 0.03 \n",
    "iterations = 100"
   ]
  },
  {
   "cell_type": "code",
   "execution_count": 8,
   "id": "5fca448a",
   "metadata": {},
   "outputs": [],
   "source": [
    "def y(m,x,c): m*x+c"
   ]
  },
  {
   "cell_type": "code",
   "execution_count": 9,
   "id": "2e13242c",
   "metadata": {},
   "outputs": [],
   "source": [
    "def cost(m, c):\n",
    "  sum = map(lambda x, y: x+y, map(lambda x: pow(y(m, x[0], c) - x[1], 2), initial_data)) \n",
    "  print(sum)\n",
    "  return sum/(2* len(initial_data))"
   ]
  },
  {
   "cell_type": "code",
   "execution_count": 10,
   "id": "51cdfc38",
   "metadata": {},
   "outputs": [],
   "source": [
    "def adjust_params (m, c):\n",
    "  m_der = 0\n",
    "  c_der = 0\n",
    "  for x in initial_data:\n",
    "    m_der += (y(m, x[0], c) - x[1]) * x[0]\n",
    "    c_der += y(m, x[0], c) - x[1]\n",
    "  return \tm -  (learning_rate * m_der) / len(initial_data), c - (learning_rate * c_der) / len(initial_data)\n",
    " \t"
   ]
  },
  {
   "cell_type": "code",
   "execution_count": 11,
   "id": "63374681",
   "metadata": {},
   "outputs": [],
   "source": [
    "def performance_r2(m, c):\n",
    "  s_res = 0\n",
    "  s_tot = 0\n",
    "  y_mean = 0\n",
    "  for x in initial_data:\n",
    "    y_mean = (y_mean + x[0]) / len(initial_data)\n",
    "  \n",
    "  for x in initial_data:\n",
    "    s_res += pow(y(m, x[0], c) - x[1], 2)\n",
    "    s_tot += pow(x[1] - y_mean, 2)\n",
    "\n",
    "  return 1 - s_res/s_tot"
   ]
  },
  {
   "cell_type": "code",
   "execution_count": 12,
   "id": "bc85d02d",
   "metadata": {},
   "outputs": [],
   "source": [
    "def performance_adjusted(m,c):\n",
    "  r2 = performance_r2(m,c)\n",
    "  n = len(initial_data)\n",
    "  p = 1\n",
    "  return 1 - ((1-r2) * (n-1)) / (n - p - 1)  "
   ]
  },
  {
   "cell_type": "code",
   "execution_count": 14,
   "id": "51e4b7f1",
   "metadata": {},
   "outputs": [
    {
     "ename": "TypeError",
     "evalue": "unsupported operand type(s) for -: 'NoneType' and 'int'",
     "output_type": "error",
     "traceback": [
      "\u001b[0;31m---------------------------------------------------------------------------\u001b[0m",
      "\u001b[0;31mTypeError\u001b[0m                                 Traceback (most recent call last)",
      "Cell \u001b[0;32mIn[14], line 7\u001b[0m\n\u001b[1;32m      4\u001b[0m c \u001b[39m=\u001b[39m \u001b[39m0\u001b[39m\n\u001b[1;32m      6\u001b[0m \u001b[39mfor\u001b[39;00m i \u001b[39min\u001b[39;00m \u001b[39mrange\u001b[39m (iterations):\n\u001b[0;32m----> 7\u001b[0m \tnew_m, new_c \u001b[39m=\u001b[39m adjust_params(m,c)\n\u001b[1;32m      8\u001b[0m \tcurr_cost \u001b[39m=\u001b[39m cost(m,c)\n\u001b[1;32m      9\u001b[0m \t\u001b[39mif\u001b[39;00m(curr_cost \u001b[39m>\u001b[39m prev_cost):\n",
      "Cell \u001b[0;32mIn[10], line 5\u001b[0m, in \u001b[0;36madjust_params\u001b[0;34m(m, c)\u001b[0m\n\u001b[1;32m      3\u001b[0m c_der \u001b[39m=\u001b[39m \u001b[39m0\u001b[39m\n\u001b[1;32m      4\u001b[0m \u001b[39mfor\u001b[39;00m x \u001b[39min\u001b[39;00m initial_data:\n\u001b[0;32m----> 5\u001b[0m   m_der \u001b[39m+\u001b[39m\u001b[39m=\u001b[39m (y(m, x[\u001b[39m0\u001b[39;49m], c) \u001b[39m-\u001b[39;49m x[\u001b[39m1\u001b[39;49m]) \u001b[39m*\u001b[39m x[\u001b[39m0\u001b[39m]\n\u001b[1;32m      6\u001b[0m   c_der \u001b[39m+\u001b[39m\u001b[39m=\u001b[39m y(m, x[\u001b[39m0\u001b[39m], c) \u001b[39m-\u001b[39m x[\u001b[39m1\u001b[39m]\n\u001b[1;32m      7\u001b[0m \u001b[39mreturn\u001b[39;00m \tm \u001b[39m-\u001b[39m  (learning_rate \u001b[39m*\u001b[39m m_der) \u001b[39m/\u001b[39m \u001b[39mlen\u001b[39m(initial_data), c \u001b[39m-\u001b[39m (learning_rate \u001b[39m*\u001b[39m c_der) \u001b[39m/\u001b[39m \u001b[39mlen\u001b[39m(initial_data)\n",
      "\u001b[0;31mTypeError\u001b[0m: unsupported operand type(s) for -: 'NoneType' and 'int'"
     ]
    }
   ],
   "source": [
    "prev_cost = 0\n",
    "curr_cost = 0\n",
    "m = 1 \n",
    "c = 0\n",
    "\n",
    "for i in range (iterations):\n",
    "\tnew_m, new_c = adjust_params(m,c)\n",
    "\tcurr_cost = cost(m,c)\n",
    "\tif(curr_cost > prev_cost):\n",
    "\t\tprint (f\"Cost increased from {prev_cost} to {curr_cost} at iteration {i+1}\")\n",
    "\t\tbreak\n",
    "\tm = new_m\n",
    "\tc = new_c\n",
    "\t\n",
    "\tif(prev_cost == 0 or prev_cost > curr_cost):\n",
    "\t\tprint(f\"Current cost {curr_cost}\")\n",
    "\n",
    "r2 = performance_r2(m,c)*100\n",
    "adjusted_r2 = performance_adjusted(m,c)*100\n",
    "\n",
    "print(r2, adjusted_r2, m, c)"
   ]
  },
  {
   "cell_type": "code",
   "execution_count": null,
   "id": "403e4147",
   "metadata": {},
   "outputs": [],
   "source": []
  }
 ],
 "metadata": {
  "kernelspec": {
   "display_name": "Python 3 (ipykernel)",
   "language": "python",
   "name": "python3"
  },
  "language_info": {
   "codemirror_mode": {
    "name": "ipython",
    "version": 3
   },
   "file_extension": ".py",
   "mimetype": "text/x-python",
   "name": "python",
   "nbconvert_exporter": "python",
   "pygments_lexer": "ipython3",
   "version": "3.10.12"
  }
 },
 "nbformat": 4,
 "nbformat_minor": 5
}
